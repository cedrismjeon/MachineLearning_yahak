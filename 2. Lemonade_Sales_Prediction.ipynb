{
  "nbformat": 4,
  "nbformat_minor": 0,
  "metadata": {
    "colab": {
      "name": "2. Lemonade Sales Prediction.ipynb",
      "provenance": [],
      "authorship_tag": "ABX9TyP1Tx71F0Spt3bNRFJN3GKS",
      "include_colab_link": true
    },
    "kernelspec": {
      "name": "python3",
      "display_name": "Python 3"
    }
  },
  "cells": [
    {
      "cell_type": "markdown",
      "metadata": {
        "id": "view-in-github",
        "colab_type": "text"
      },
      "source": [
        "<a href=\"https://colab.research.google.com/github/cedrismjeon/MachineLearning_yahak/blob/main/2_Lemonade_Sales_Prediction.ipynb\" target=\"_parent\"><img src=\"https://colab.research.google.com/assets/colab-badge.svg\" alt=\"Open In Colab\"/></a>"
      ]
    },
    {
      "cell_type": "code",
      "metadata": {
        "id": "XtavrHahym2f"
      },
      "source": [
        "#라이브러리 사용\n",
        "import tensorflow as tf\n",
        "import pandas as pd"
      ],
      "execution_count": null,
      "outputs": []
    },
    {
      "cell_type": "code",
      "metadata": {
        "id": "i39UJq_rzTvv"
      },
      "source": [
        "#데이터 준비\n",
        "file = 'https://raw.githubusercontent.com/blackdew/tensorflow1/master/csv/lemonade.csv'\n",
        "lemonade = pd.read_csv(file)"
      ],
      "execution_count": null,
      "outputs": []
    },
    {
      "cell_type": "code",
      "metadata": {
        "id": "6rY7Gx3dzewG"
      },
      "source": [
        "#종속변수, 독립변수 분리\n",
        "independent = lemonade[['온도']]\n",
        "dependent = lemonade[['판매량']]"
      ],
      "execution_count": null,
      "outputs": []
    },
    {
      "cell_type": "code",
      "metadata": {
        "id": "EJ18iTMR0Epb"
      },
      "source": [
        "#모델을 만듭니다\n",
        "X = tf.keras.layers.Input(shape=[1])\n",
        "Y = tf.keras.layers.Dense(1)(X)\n",
        "model = tf.keras.models.Model(X, Y)\n",
        "model.compile(loss='mse')"
      ],
      "execution_count": null,
      "outputs": []
    },
    {
      "cell_type": "code",
      "metadata": {
        "colab": {
          "base_uri": "https://localhost:8080/"
        },
        "id": "z-id7EJY0vid",
        "outputId": "0c818d60-0795-412c-fafe-89400443ae10"
      },
      "source": [
        "# 모델을 학습시킵니다. \n",
        "model.fit(independent, dependent, epochs=1000, verbose=0)\n",
        "model.fit(independent, dependent, epochs=10)"
      ],
      "execution_count": null,
      "outputs": [
        {
          "output_type": "stream",
          "text": [
            "Epoch 1/10\n",
            "1/1 [==============================] - 0s 7ms/step - loss: 1464.9194\n",
            "Epoch 2/10\n",
            "1/1 [==============================] - 0s 7ms/step - loss: 1463.1261\n",
            "Epoch 3/10\n",
            "1/1 [==============================] - 0s 3ms/step - loss: 1461.3344\n",
            "Epoch 4/10\n",
            "1/1 [==============================] - 0s 3ms/step - loss: 1459.5433\n",
            "Epoch 5/10\n",
            "1/1 [==============================] - 0s 3ms/step - loss: 1457.7534\n",
            "Epoch 6/10\n",
            "1/1 [==============================] - 0s 3ms/step - loss: 1455.9647\n",
            "Epoch 7/10\n",
            "1/1 [==============================] - 0s 3ms/step - loss: 1454.1771\n",
            "Epoch 8/10\n",
            "1/1 [==============================] - 0s 3ms/step - loss: 1452.3905\n",
            "Epoch 9/10\n",
            "1/1 [==============================] - 0s 3ms/step - loss: 1450.6051\n",
            "Epoch 10/10\n",
            "1/1 [==============================] - 0s 3ms/step - loss: 1448.8209\n"
          ],
          "name": "stdout"
        },
        {
          "output_type": "execute_result",
          "data": {
            "text/plain": [
              "<tensorflow.python.keras.callbacks.History at 0x7fb472c9b0f0>"
            ]
          },
          "metadata": {
            "tags": []
          },
          "execution_count": 9
        }
      ]
    },
    {
      "cell_type": "code",
      "metadata": {
        "colab": {
          "base_uri": "https://localhost:8080/"
        },
        "id": "guXk0B3G0zuk",
        "outputId": "5c77d15e-8ca8-44a3-a211-1cab94935376"
      },
      "source": [
        "# 모델을 이용합니다. \n",
        "print(model.predict(independent))\n",
        "print(model.predict([[15]]))"
      ],
      "execution_count": null,
      "outputs": [
        {
          "output_type": "stream",
          "text": [
            "[[6.401692 ]\n",
            " [6.671036 ]\n",
            " [6.9403796]\n",
            " [7.209723 ]\n",
            " [7.479067 ]\n",
            " [7.7484107]]\n",
            "[[5.0549736]]\n"
          ],
          "name": "stdout"
        }
      ]
    },
    {
      "cell_type": "code",
      "metadata": {
        "id": "BxvV756rNWag"
      },
      "source": [
        "#라이브러리 사용\n",
        "import tensorflow as tf\n",
        "import pandas as pd"
      ],
      "execution_count": null,
      "outputs": []
    },
    {
      "cell_type": "code",
      "metadata": {
        "id": "B6MSAowiNWag"
      },
      "source": [
        "#데이터 준비\n",
        "file = 'https://raw.githubusercontent.com/blackdew/tensorflow1/master/csv/lemonade.csv'\n",
        "lemonade = pd.read_csv(file)"
      ],
      "execution_count": null,
      "outputs": []
    },
    {
      "cell_type": "code",
      "metadata": {
        "id": "WWDpTcvtNWah"
      },
      "source": [
        "#종속변수, 독립변수 분리\n",
        "independent = lemonade[['온도']]\n",
        "dependent = lemonade[['판매량']]"
      ],
      "execution_count": null,
      "outputs": []
    },
    {
      "cell_type": "code",
      "metadata": {
        "id": "E4PVaFSPNWah"
      },
      "source": [
        "#모델을 만듭니다\n",
        "X = tf.keras.layers.Input(shape=[1])\n",
        "Y = tf.keras.layers.Dense(1)(X)\n",
        "model = tf.keras.models.Model(X, Y)\n",
        "model.compile(loss='mse')"
      ],
      "execution_count": null,
      "outputs": []
    },
    {
      "cell_type": "code",
      "metadata": {
        "colab": {
          "base_uri": "https://localhost:8080/"
        },
        "id": "pwtQmYK9NWah",
        "outputId": "0c818d60-0795-412c-fafe-89400443ae10"
      },
      "source": [
        "# 모델을 학습시킵니다. \n",
        "model.fit(independent, dependent, epochs=1000, verbose=0)\n",
        "model.fit(independent, dependent, epochs=10)"
      ],
      "execution_count": null,
      "outputs": [
        {
          "output_type": "stream",
          "text": [
            "Epoch 1/10\n",
            "1/1 [==============================] - 0s 7ms/step - loss: 1464.9194\n",
            "Epoch 2/10\n",
            "1/1 [==============================] - 0s 7ms/step - loss: 1463.1261\n",
            "Epoch 3/10\n",
            "1/1 [==============================] - 0s 3ms/step - loss: 1461.3344\n",
            "Epoch 4/10\n",
            "1/1 [==============================] - 0s 3ms/step - loss: 1459.5433\n",
            "Epoch 5/10\n",
            "1/1 [==============================] - 0s 3ms/step - loss: 1457.7534\n",
            "Epoch 6/10\n",
            "1/1 [==============================] - 0s 3ms/step - loss: 1455.9647\n",
            "Epoch 7/10\n",
            "1/1 [==============================] - 0s 3ms/step - loss: 1454.1771\n",
            "Epoch 8/10\n",
            "1/1 [==============================] - 0s 3ms/step - loss: 1452.3905\n",
            "Epoch 9/10\n",
            "1/1 [==============================] - 0s 3ms/step - loss: 1450.6051\n",
            "Epoch 10/10\n",
            "1/1 [==============================] - 0s 3ms/step - loss: 1448.8209\n"
          ],
          "name": "stdout"
        },
        {
          "output_type": "execute_result",
          "data": {
            "text/plain": [
              "<tensorflow.python.keras.callbacks.History at 0x7fb472c9b0f0>"
            ]
          },
          "metadata": {
            "tags": []
          },
          "execution_count": 9
        }
      ]
    },
    {
      "cell_type": "code",
      "metadata": {
        "colab": {
          "base_uri": "https://localhost:8080/"
        },
        "id": "e9vOxFZrNWai",
        "outputId": "5c77d15e-8ca8-44a3-a211-1cab94935376"
      },
      "source": [
        "# 모델을 이용합니다. \n",
        "print(model.predict(independent))\n",
        "print(model.predict([[15]]))"
      ],
      "execution_count": null,
      "outputs": [
        {
          "output_type": "stream",
          "text": [
            "[[6.401692 ]\n",
            " [6.671036 ]\n",
            " [6.9403796]\n",
            " [7.209723 ]\n",
            " [7.479067 ]\n",
            " [7.7484107]]\n",
            "[[5.0549736]]\n"
          ],
          "name": "stdout"
        }
      ]
    }
  ]
}
