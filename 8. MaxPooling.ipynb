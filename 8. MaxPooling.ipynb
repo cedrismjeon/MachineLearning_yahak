{
  "nbformat": 4,
  "nbformat_minor": 0,
  "metadata": {
    "colab": {
      "name": "8. MaxPooling.ipynb",
      "provenance": [],
      "authorship_tag": "ABX9TyOhyKjzBQpbMgtO/jGYRqOB",
      "include_colab_link": true
    },
    "kernelspec": {
      "name": "python3",
      "display_name": "Python 3"
    }
  },
  "cells": [
    {
      "cell_type": "markdown",
      "metadata": {
        "id": "view-in-github",
        "colab_type": "text"
      },
      "source": [
        "<a href=\"https://colab.research.google.com/github/cedrismjeon/MachineLearning_yahak/blob/main/8.%20MaxPooling.ipynb\" target=\"_parent\"><img src=\"https://colab.research.google.com/assets/colab-badge.svg\" alt=\"Open In Colab\"/></a>"
      ]
    },
    {
      "cell_type": "code",
      "metadata": {
        "colab": {
          "base_uri": "https://localhost:8080/"
        },
        "id": "8xCM4YNLqdPu",
        "outputId": "3a8fa574-816d-4cc1-d480-bd95bc8c7718"
      },
      "source": [
        "import tensorflow as tf\n",
        "import pandas as pd\n",
        "# 데이터를 준비하고\n",
        "(독립, 종속), _ = tf.keras.datasets.mnist.load_data()\n",
        "독립 = 독립.reshape(60000, 28, 28, 1)\n",
        "종속 = pd.get_dummies(종속)\n",
        "print(독립.shape, 종속.shape)"
      ],
      "execution_count": 1,
      "outputs": [
        {
          "output_type": "stream",
          "text": [
            "Downloading data from https://storage.googleapis.com/tensorflow/tf-keras-datasets/mnist.npz\n",
            "11493376/11490434 [==============================] - 0s 0us/step\n",
            "(60000, 28, 28, 1) (60000, 10)\n"
          ],
          "name": "stdout"
        }
      ]
    },
    {
      "cell_type": "code",
      "metadata": {
        "id": "QsXSstZvqqyb"
      },
      "source": [
        "# 모델 만들기\n",
        "X = tf.keras.layers.Input(shape=[28, 28, 1])\n",
        "H = tf.keras.layers.Conv2D(3, kernel_size=5, activation='swish')(X)\n",
        "H = tf.keras.layers.Conv2D(6, kernel_size=5, activation='swish')(H)\n",
        "H = tf.keras.layers.Flatten()(H)\n",
        "H = tf.keras.layers.Dense(84, activation='swish')(H)\n",
        "Y = tf.keras.layers.Dense(10, activation='softmax')(H)\n",
        "model = tf.keras.models.Model(X, Y)\n",
        "model.compile(loss='categorical_crossentropy', metrics='accuracy')\n",
        "\n",
        "model.summary()"
      ],
      "execution_count": null,
      "outputs": []
    },
    {
      "cell_type": "code",
      "metadata": {
        "id": "AtBeRASLq1e8"
      },
      "source": [
        "# weights 계산\n",
        "84 * (2400 + 1) + 10 * (84 + 1) + 78 + 456"
      ],
      "execution_count": null,
      "outputs": []
    },
    {
      "cell_type": "code",
      "metadata": {
        "id": "md5WEHIaq1Xr"
      },
      "source": [
        "# 모델을 만들고, CNN\n",
        "X = tf.keras.layers.Input(shape=[28, 28, 1])\n",
        "\n",
        "H = tf.keras.layers.Conv2D(3, kernel_size=5, activation='swish')(X)\n",
        "H = tf.keras.layers.MaxPool2D()(H)\n",
        "\n",
        "H = tf.keras.layers.Conv2D(6, kernel_size=5, activation='swish')(H)\n",
        "H = tf.keras.layers.MaxPool2D()(H)\n",
        "\n",
        "H = tf.keras.layers.Flatten()(H)\n",
        "H = tf.keras.layers.Dense(84, activation='swish')(H)\n",
        "Y = tf.keras.layers.Dense(10, activation='softmax')(H)\n",
        "model = tf.keras.models.Model(X, Y)\n",
        "model.compile(loss='categorical_crossentropy', metrics='accuracy')\n",
        "\n",
        "model.summary()"
      ],
      "execution_count": null,
      "outputs": []
    },
    {
      "cell_type": "code",
      "metadata": {
        "id": "WtlRrlZEq1Hw"
      },
      "source": [
        "model.fit(독립, 종속, epochs=10)"
      ],
      "execution_count": null,
      "outputs": []
    }
  ]
}